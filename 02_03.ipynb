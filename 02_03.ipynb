{
  "nbformat": 4,
  "nbformat_minor": 0,
  "metadata": {
    "colab": {
      "provenance": [],
      "gpuType": "T4",
      "authorship_tag": "ABX9TyNNipk7ZMEARk8HKLXEmtOQ",
      "include_colab_link": true
    },
    "kernelspec": {
      "name": "python3",
      "display_name": "Python 3"
    },
    "language_info": {
      "name": "python"
    },
    "accelerator": "GPU"
  },
  "cells": [
    {
      "cell_type": "markdown",
      "metadata": {
        "id": "view-in-github",
        "colab_type": "text"
      },
      "source": [
        "<a href=\"https://colab.research.google.com/github/Andrejairam/githubtest/blob/main/02_03.ipynb\" target=\"_parent\"><img src=\"https://colab.research.google.com/assets/colab-badge.svg\" alt=\"Open In Colab\"/></a>"
      ]
    },
    {
      "cell_type": "code",
      "execution_count": 3,
      "metadata": {
        "colab": {
          "base_uri": "https://localhost:8080/"
        },
        "id": "hG5hGgkN3iBT",
        "outputId": "335c6f1d-3415-450c-9813-41fb37789d2b"
      },
      "outputs": [
        {
          "output_type": "stream",
          "name": "stdout",
          "text": [
            "2.5.1+cu121\n",
            "cuda\n"
          ]
        }
      ],
      "source": [
        "import torch\n",
        "print(torch.__version__)\n",
        "\n",
        "if torch.cuda.is_available(): device = \"cuda\"\n",
        "else: device = \"cpu\"\n",
        "print(device)"
      ]
    },
    {
      "cell_type": "code",
      "source": [
        "tens_a = torch.tensor([[10,11,12,13],[14,15,16,17]],device=device)\n",
        "tens_b = torch.tensor([[18,19,20,21],[22,23,24,25]],device=device)\n",
        "multi_tens = tens_a * tens_b\n",
        "print (multi_tens)"
      ],
      "metadata": {
        "colab": {
          "base_uri": "https://localhost:8080/"
        },
        "id": "7Zp6j42S4y2I",
        "outputId": "67210601-8816-4f19-cb97-88f588650345"
      },
      "execution_count": 4,
      "outputs": [
        {
          "output_type": "stream",
          "name": "stdout",
          "text": [
            "tensor([[180, 209, 240, 273],\n",
            "        [308, 345, 384, 425]], device='cuda:0')\n"
          ]
        }
      ]
    },
    {
      "cell_type": "code",
      "source": [],
      "metadata": {
        "id": "RwZDc1fq5Xs9"
      },
      "execution_count": null,
      "outputs": []
    }
  ]
}