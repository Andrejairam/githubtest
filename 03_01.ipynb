{
  "nbformat": 4,
  "nbformat_minor": 0,
  "metadata": {
    "colab": {
      "provenance": [],
      "authorship_tag": "ABX9TyOyCOvcS8vPHrcqN7flCtZA",
      "include_colab_link": true
    },
    "kernelspec": {
      "name": "python3",
      "display_name": "Python 3"
    },
    "language_info": {
      "name": "python"
    }
  },
  "cells": [
    {
      "cell_type": "markdown",
      "metadata": {
        "id": "view-in-github",
        "colab_type": "text"
      },
      "source": [
        "<a href=\"https://colab.research.google.com/github/Andrejairam/githubtest/blob/main/03_01.ipynb\" target=\"_parent\"><img src=\"https://colab.research.google.com/assets/colab-badge.svg\" alt=\"Open In Colab\"/></a>"
      ]
    },
    {
      "cell_type": "code",
      "execution_count": 2,
      "metadata": {
        "colab": {
          "base_uri": "https://localhost:8080/"
        },
        "id": "ELZo-xEZ55nH",
        "outputId": "560531bb-849d-4f0b-cabb-5a26c348b16d"
      },
      "outputs": [
        {
          "output_type": "stream",
          "name": "stdout",
          "text": [
            "Tensor from list: tensor([1, 2, 3, 4, 5])\n",
            "Tensor from tuple: tensor([ 6,  7,  8,  9, 10])\n"
          ]
        }
      ],
      "source": [
        "import torch\n",
        "import numpy as np\n",
        "\n",
        "# initialize a tensor from a Python list\n",
        "tensor_from_list=torch.tensor([1,2,3,4,5])\n",
        "# initialize a tensor from a tuple\n",
        "tensor_from_tuple=torch.tensor((6,7,8,9,10))\n",
        "print(\"Tensor from list:\",tensor_from_list)\n",
        "print(\"Tensor from tuple:\",tensor_from_tuple)"
      ]
    },
    {
      "cell_type": "code",
      "source": [
        "#initialize a tensor from a ndarray\n",
        "tensor_from_array=torch.tensor(np.array([11,12,13,14,15]))\n",
        "print(\"Tensor from array:\",tensor_from_array)"
      ],
      "metadata": {
        "colab": {
          "base_uri": "https://localhost:8080/"
        },
        "id": "FxWmKYvx7pm3",
        "outputId": "04d092ae-7832-4954-b12e-eecd7c315241"
      },
      "execution_count": 3,
      "outputs": [
        {
          "output_type": "stream",
          "name": "stdout",
          "text": [
            "Tensor from array: tensor([11, 12, 13, 14, 15])\n"
          ]
        }
      ]
    },
    {
      "cell_type": "code",
      "source": [
        "tensor_emp = torch.empty(3,4)\n",
        "print(\"tensor_emp : \",tensor_emp)\n",
        "tensor_zeros = torch.zeros(3,4)\n",
        "print(\"tensor_zeros : \",tensor_zeros)\n",
        "tensor_ones = torch.ones(3,4)\n",
        "print(\"tensor_ones : \",tensor_ones)\n",
        "\n",
        "# tensors initialized by size with random values\n",
        "# returns a tensor filled with random numbers from a uniform distribution\n",
        "tensor_rand_un = torch.rand(4,5)\n",
        "print(\"tensor_rand_un :\",tensor_rand_un)\n",
        "# returns a tensor filled with random numbers from a normal distrubtion\n",
        "tensor_rand_norm = torch.randn(4,5)\n",
        "print(\"tensor_rand_norm :\",tensor_rand_norm)\n",
        "# returns a tensor filled with random integers generated uniformly\n",
        "tensor_rand_int = torch.randint(5,10,(4,5))\n",
        "print(\"tensor_rand_int :\",tensor_rand_int)\n",
        "\n",
        "# initialize a tensor of ones\n",
        "tensor_ones = torch.ones_like(tensor_rand_int)\n",
        "print(tensor_ones)"
      ],
      "metadata": {
        "colab": {
          "base_uri": "https://localhost:8080/"
        },
        "id": "xzJ5EipT79f5",
        "outputId": "2a08eb7f-baae-414c-9f2b-837dc0984782"
      },
      "execution_count": 4,
      "outputs": [
        {
          "output_type": "stream",
          "name": "stdout",
          "text": [
            "tensor_emp :  tensor([[1.5554e-43, 1.5414e-43, 1.4153e-43, 1.6115e-43],\n",
            "        [1.3312e-43, 1.5134e-43, 1.4714e-43, 1.4994e-43],\n",
            "        [1.4153e-43, 1.7539e+19, 7.0974e+22, 7.0072e+22]])\n",
            "tensor_zeros :  tensor([[0., 0., 0., 0.],\n",
            "        [0., 0., 0., 0.],\n",
            "        [0., 0., 0., 0.]])\n",
            "tensor_ones :  tensor([[1., 1., 1., 1.],\n",
            "        [1., 1., 1., 1.],\n",
            "        [1., 1., 1., 1.]])\n",
            "tensor_rand_un : tensor([[0.8021, 0.4289, 0.0954, 0.5621, 0.4394],\n",
            "        [0.2931, 0.8638, 0.9711, 0.4897, 0.8983],\n",
            "        [0.9016, 0.8932, 0.5599, 0.5933, 0.6827],\n",
            "        [0.0597, 0.9393, 0.1140, 0.4297, 0.1367]])\n",
            "tensor_rand_norm : tensor([[-0.8760,  2.2846,  0.2752, -1.9275,  1.5319],\n",
            "        [ 0.2651, -0.7261, -0.6299, -1.3044,  0.3466],\n",
            "        [-0.4579,  0.4749,  0.6335,  2.1102,  0.6585],\n",
            "        [-0.7127,  0.3756, -0.9065, -0.3991, -0.5898]])\n",
            "tensor_rand_int : tensor([[9, 6, 8, 8, 7],\n",
            "        [6, 7, 7, 5, 9],\n",
            "        [7, 9, 9, 7, 5],\n",
            "        [5, 6, 5, 8, 8]])\n",
            "tensor([[1, 1, 1, 1, 1],\n",
            "        [1, 1, 1, 1, 1],\n",
            "        [1, 1, 1, 1, 1],\n",
            "        [1, 1, 1, 1, 1]])\n"
          ]
        }
      ]
    },
    {
      "cell_type": "code",
      "source": [],
      "metadata": {
        "id": "n9oUXDYJ-wqf"
      },
      "execution_count": null,
      "outputs": []
    }
  ]
}