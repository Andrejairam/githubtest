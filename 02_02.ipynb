{
  "nbformat": 4,
  "nbformat_minor": 0,
  "metadata": {
    "colab": {
      "provenance": [],
      "authorship_tag": "ABX9TyPAyGL4HTudUtd2/cau0Ch+",
      "include_colab_link": true
    },
    "kernelspec": {
      "name": "python3",
      "display_name": "Python 3"
    },
    "language_info": {
      "name": "python"
    }
  },
  "cells": [
    {
      "cell_type": "markdown",
      "metadata": {
        "id": "view-in-github",
        "colab_type": "text"
      },
      "source": [
        "<a href=\"https://colab.research.google.com/github/Andrejairam/githubtest/blob/main/02_02.ipynb\" target=\"_parent\"><img src=\"https://colab.research.google.com/assets/colab-badge.svg\" alt=\"Open In Colab\"/></a>"
      ]
    },
    {
      "cell_type": "code",
      "execution_count": 3,
      "metadata": {
        "colab": {
          "base_uri": "https://localhost:8080/"
        },
        "id": "rBhaxJ6J1nM3",
        "outputId": "c0aabf37-3f62-4ff6-ce42-a4c6a8cf768a"
      },
      "outputs": [
        {
          "output_type": "stream",
          "name": "stdout",
          "text": [
            "tensor([[13, 12, 14, 13],\n",
            "        [18, 21, 21, 24]])\n",
            "torch.Size([2, 4])\n"
          ]
        }
      ],
      "source": [
        "import torch\n",
        "\n",
        "first_tens = torch.tensor([[12,10,11,9],[13,15,14,16]])\n",
        "second_tens = torch.tensor([[1,2,3,4],[5,6,7,8]])\n",
        "\n",
        "add_tens = first_tens + second_tens\n",
        "print(add_tens)\n",
        "print(add_tens.size())\n"
      ]
    },
    {
      "cell_type": "code",
      "source": [
        "import torch\n",
        "\n",
        "first_tens= torch.tensor([[12,10,11,9],[13,15,14,16]])\n",
        "second_tens = torch.tensor([[1,2,3,4],[5,6,7,8]])\n",
        "\n",
        "sub_tens = first_tens - second_tens\n",
        "print(sub_tens)\n",
        "print(sub_tens.size())"
      ],
      "metadata": {
        "colab": {
          "base_uri": "https://localhost:8080/"
        },
        "id": "Aadlar2f2oU_",
        "outputId": "8e0045d6-131c-4423-852d-2ae183b09543"
      },
      "execution_count": 4,
      "outputs": [
        {
          "output_type": "stream",
          "name": "stdout",
          "text": [
            "tensor([[11,  8,  8,  5],\n",
            "        [ 8,  9,  7,  8]])\n",
            "torch.Size([2, 4])\n"
          ]
        }
      ]
    },
    {
      "cell_type": "code",
      "source": [],
      "metadata": {
        "id": "sxwTCQV_3HBq"
      },
      "execution_count": null,
      "outputs": []
    }
  ]
}